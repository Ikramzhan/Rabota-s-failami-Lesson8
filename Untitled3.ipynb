{
  "nbformat": 4,
  "nbformat_minor": 0,
  "metadata": {
    "colab": {
      "provenance": [],
      "authorship_tag": "ABX9TyMBDz7uo0U5DeiPslg7Oqj/",
      "include_colab_link": true
    },
    "kernelspec": {
      "name": "python3",
      "display_name": "Python 3"
    },
    "language_info": {
      "name": "python"
    }
  },
  "cells": [
    {
      "cell_type": "markdown",
      "metadata": {
        "id": "view-in-github",
        "colab_type": "text"
      },
      "source": [
        "<a href=\"https://colab.research.google.com/github/Ikramzhan/Rabota-s-failami-Lesson8/blob/main/Untitled3.ipynb\" target=\"_parent\"><img src=\"https://colab.research.google.com/assets/colab-badge.svg\" alt=\"Open In Colab\"/></a>"
      ]
    },
    {
      "cell_type": "code",
      "source": [
        "import pandas as pd\n"
      ],
      "metadata": {
        "id": "hY8NHgGQD6Mp"
      },
      "execution_count": null,
      "outputs": []
    },
    {
      "cell_type": "code",
      "source": [
        "import random"
      ],
      "metadata": {
        "id": "a8-qyEofHpXG"
      },
      "execution_count": null,
      "outputs": []
    },
    {
      "cell_type": "code",
      "source": [
        "lst = ['robot'] * 10\n",
        "\n",
        "lst += ['human'] * 10\n",
        "\n",
        "random.shuffle(lst)\n",
        "\n",
        "data = pd.DataFrame({'whoAmI': lst})"
      ],
      "metadata": {
        "id": "ZK14TDcrH0q0"
      },
      "execution_count": null,
      "outputs": []
    },
    {
      "cell_type": "code",
      "source": [
        "unique_values = data['whoAmI'].unique()"
      ],
      "metadata": {
        "id": "aNe2_UweIA4z"
      },
      "execution_count": null,
      "outputs": []
    },
    {
      "cell_type": "code",
      "source": [
        "for value in unique_values:\n",
        "\n",
        "   data[value] = (data['whoAmI'] == value).astype(int)"
      ],
      "metadata": {
        "id": "yYT061tsINYZ"
      },
      "execution_count": null,
      "outputs": []
    },
    {
      "cell_type": "code",
      "source": [
        "data.drop('whoAmI', axis=1, inplace=True)"
      ],
      "metadata": {
        "id": "-VMOXhtRIW4c"
      },
      "execution_count": null,
      "outputs": []
    },
    {
      "cell_type": "code",
      "source": [
        "print(data.head())"
      ],
      "metadata": {
        "colab": {
          "base_uri": "https://localhost:8080/"
        },
        "id": "7NG721caItT4",
        "outputId": "0dbf5020-1b83-429f-e9c7-324477e4c8b4"
      },
      "execution_count": null,
      "outputs": [
        {
          "output_type": "stream",
          "name": "stdout",
          "text": [
            "   human  robot\n",
            "0      1      0\n",
            "1      1      0\n",
            "2      1      0\n",
            "3      0      1\n",
            "4      1      0\n"
          ]
        }
      ]
    },
    {
      "cell_type": "code",
      "source": [],
      "metadata": {
        "id": "GZZsEtCUIsrz"
      },
      "execution_count": null,
      "outputs": []
    }
  ]
}